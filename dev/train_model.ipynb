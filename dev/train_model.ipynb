{
 "cells": [
  {
   "cell_type": "markdown",
   "metadata": {},
   "source": [
    "## This script contains the minimum to build a model for the current ultrastar_pitch build"
   ]
  },
  {
   "cell_type": "markdown",
   "metadata": {},
   "source": [
    "### load fft data from disk"
   ]
  },
  {
   "cell_type": "code",
   "execution_count": null,
   "metadata": {},
   "outputs": [],
   "source": [
    "import os\n",
    "import random\n",
    "import numpy as np\n",
    "\n",
    "DATA_DIRS = [#\"/path/to/fft_stable\",\n",
    "             #\"/path/to/fft_beta\",\n",
    "            ]\n",
    "\n",
    "# load paths with training data\n",
    "pitch_paths = []\n",
    "for directory in DATA_DIRS:\n",
    "    for root, _, files in os.walk(directory):\n",
    "        for file in files:\n",
    "            if file.endswith(\".npy\"):\n",
    "                pitch_paths.append(os.path.join(root, file))\n",
    "\n",
    "# shuffle paths to reduce correlation\n",
    "random.seed(42)\n",
    "random.shuffle(pitch_paths)\n",
    "\n",
    "# load data features and labels\n",
    "X = np.array([np.load(pitch_path).flatten() for pitch_path in pitch_paths])\n",
    "y = np.array([int(pitch_path.split(os.path.sep)[-2]) for pitch_path in pitch_paths])"
   ]
  },
  {
   "cell_type": "markdown",
   "metadata": {},
   "source": [
    "### split data into a training and a testing set"
   ]
  },
  {
   "cell_type": "code",
   "execution_count": null,
   "metadata": {},
   "outputs": [],
   "source": [
    "from sklearn.model_selection import train_test_split\n",
    "\n",
    "X_train, X_test, y_train, y_test = train_test_split(X, y, test_size = 0.2, random_state = 0)"
   ]
  },
  {
   "cell_type": "markdown",
   "metadata": {},
   "source": [
    "### filter out misslabeld data"
   ]
  },
  {
   "cell_type": "code",
   "execution_count": null,
   "metadata": {},
   "outputs": [],
   "source": [
    "def predict(fft, pitch, threshold=0.1, sample_rate=16000):\n",
    "    \"\"\" check if the provided fft corresponds with the given pitch\n",
    "    @param fft           unshortend signal spectrum\\n\n",
    "    @param threshold     limit for the signal power ratio\\n\n",
    "    @param sample_rate   sample frequency\\n\n",
    "    @return correctness  true or false\n",
    "    \"\"\"\n",
    "    fft_len = 2 * (len(fft) - 1)\n",
    "    fft = fft.flatten()\n",
    "    \n",
    "    power_ref = 0\n",
    "    power_pitch = 0\n",
    "    # iterate over each pitch\n",
    "    for i in range(12):\n",
    "        f_pitch = 3520 * 2**(float(i) / 12.0 - 4.75)       # calc pitch base freq based on C3 (130,81Hz)\n",
    "        idx_0 = int((f_pitch * fft_len) / sample_rate)     # calc pitch base index\n",
    "        idx_1 = int((2 * f_pitch * fft_len) / sample_rate) # calc pitch first harmonic index\n",
    "        idx_2 = int((3 * f_pitch * fft_len) / sample_rate) # calc pitch second harmonic index\n",
    "\n",
    "        # accumulate the base tone and the first two harmonics\n",
    "        power = fft[idx_0] + fft[idx_1] + fft[idx_2]\n",
    "        \n",
    "        # save the highest power as reference\n",
    "        if power > power_ref:\n",
    "            power_ref = power\n",
    "\n",
    "        # save the power of the pitch label\n",
    "        if i == pitch:\n",
    "            power_pitch = power\n",
    "        \n",
    "    # compare the power ratio to the threshold\n",
    "    if (power_pitch / power_ref) >= threshold:\n",
    "        return True\n",
    "    return False"
   ]
  },
  {
   "cell_type": "code",
   "execution_count": null,
   "metadata": {},
   "outputs": [],
   "source": [
    "X_train_filt, y_train_filt = [], []\n",
    "for features, label in zip(X_train, y_train):\n",
    "        if predict(features, label) == True:\n",
    "            X_train_filt.append(features)\n",
    "            y_train_filt.append(label)\n",
    "# show how much of the data wasn't filtered out\n",
    "len(X_train_filt) / len(X_train)"
   ]
  },
  {
   "cell_type": "code",
   "execution_count": null,
   "metadata": {},
   "outputs": [],
   "source": [
    "# overwrite data to reduce memory usage\n",
    "X_train = X_train_filt\n",
    "y_train = y_train_filt"
   ]
  },
  {
   "cell_type": "markdown",
   "metadata": {},
   "source": [
    "### apply PCA to reduce the feature dimension space"
   ]
  },
  {
   "cell_type": "code",
   "execution_count": null,
   "metadata": {},
   "outputs": [],
   "source": [
    "from sklearn.decomposition import PCA\n",
    "\n",
    "decomp = PCA(n_components=256)\n",
    "X_train = decomp.fit_transform(X_train)\n",
    "X_test = decomp.transform(X_test)"
   ]
  },
  {
   "cell_type": "code",
   "execution_count": null,
   "metadata": {},
   "outputs": [],
   "source": [
    "# show variance after reduction\n",
    "np.sum(decomp.explained_variance_ratio_)"
   ]
  },
  {
   "cell_type": "code",
   "execution_count": null,
   "metadata": {},
   "outputs": [],
   "source": [
    "# if you want to use pca with ultrastar_pitch, it is necessary to save the parameters \n",
    "# and load them with the PCA class. pickle isn't use to save the pca-model, because I try to avoid unnecessary\n",
    "# dependencies which would bloat the windows executable.\n",
    "np.save(\"/path/to/pca_mean.npy\", decomp.mean_)\n",
    "np.save(\"/path/to/pca_components.npy\", decomp.components_)"
   ]
  },
  {
   "cell_type": "markdown",
   "metadata": {},
   "source": [
    "### convert the labels from integers to vectors (for 2-class, binary)"
   ]
  },
  {
   "cell_type": "code",
   "execution_count": null,
   "metadata": {},
   "outputs": [],
   "source": [
    "# the tf model output layer is structured as an 1d-boolean-array\n",
    "from sklearn.preprocessing import LabelBinarizer\n",
    "\n",
    "lb = LabelBinarizer()\n",
    "y_train = lb.fit_transform(y_train)\n",
    "y_test = lb.transform(y_test)"
   ]
  },
  {
   "cell_type": "markdown",
   "metadata": {},
   "source": [
    "### load tensorflow and print version"
   ]
  },
  {
   "cell_type": "code",
   "execution_count": null,
   "metadata": {},
   "outputs": [],
   "source": [
    "import tensorflow as tf\n",
    "\n",
    "print(tf.__version__) # version should be at least 2.0"
   ]
  },
  {
   "cell_type": "markdown",
   "metadata": {},
   "source": [
    "### define the model architecture"
   ]
  },
  {
   "cell_type": "code",
   "execution_count": null,
   "metadata": {},
   "outputs": [],
   "source": [
    "# note: the model has a 256-96-12 structure, the dropout prevents overfitting\n",
    "\n",
    "# use a simple sequential model\n",
    "model = tf.keras.Sequential()\n",
    "# define input layer with 256 nodes and a weight dropout rate of 0.1\n",
    "model.add(tf.keras.layers.Dropout(rate=0.1, input_shape=(256,)))\n",
    "# define a hidden layer with 96 nodes and relu activation function\n",
    "model.add(tf.keras.layers.Dense(96, activation=\"relu\"))\n",
    "# set the weight dropout between the last two layers to 0.3\n",
    "model.add(tf.keras.layers.Dropout(rate=0.3))\n",
    "# define the output layer with 12 nodes (12 pitches)\n",
    "model.add(tf.keras.layers.Dense(12, activation=\"softmax\"))"
   ]
  },
  {
   "cell_type": "markdown",
   "metadata": {},
   "source": [
    "### compile the model"
   ]
  },
  {
   "cell_type": "code",
   "execution_count": null,
   "metadata": {},
   "outputs": [],
   "source": [
    "# use adam optimizer with an initial learning rate of 0.001\n",
    "opt = tf.keras.optimizers.Adam(lr=0.001)\n",
    "# use categorical_crossentropy as loss function while training\n",
    "model.compile(loss=\"categorical_crossentropy\", optimizer=opt, metrics=[\"accuracy\"])"
   ]
  },
  {
   "cell_type": "markdown",
   "metadata": {},
   "source": [
    "### train the model"
   ]
  },
  {
   "cell_type": "code",
   "execution_count": null,
   "metadata": {},
   "outputs": [],
   "source": [
    "# train the model with 30 iterations and a batch size of 32\n",
    "EPOCHS, BATCH_SIZE = 30, 32\n",
    "H = model.fit(X_train, y_train, validation_data=(X_test, y_test), epochs=EPOCHS, batch_size=BATCH_SIZE)"
   ]
  },
  {
   "cell_type": "markdown",
   "metadata": {},
   "source": [
    "### evaluate the model precision"
   ]
  },
  {
   "cell_type": "code",
   "execution_count": null,
   "metadata": {},
   "outputs": [],
   "source": [
    "from sklearn.metrics import classification_report\n",
    "\n",
    "# print individual and average accuracy\n",
    "predictions = model.predict(X_test, batch_size=BATCH_SIZE)\n",
    "print(classification_report(y_test.argmax(axis=1), predictions.argmax(axis=1)))"
   ]
  },
  {
   "cell_type": "code",
   "execution_count": null,
   "metadata": {},
   "outputs": [],
   "source": [
    "import matplotlib.pyplot as plt\n",
    "\n",
    "# plot the training/testing loss and accuracy\n",
    "N = np.arange(0, EPOCHS)\n",
    "plt.style.use(\"ggplot\")\n",
    "plt.figure()\n",
    "plt.plot(N, H.history[\"loss\"], label=\"train_loss\")\n",
    "plt.plot(N, H.history[\"val_loss\"], label=\"val_loss\")\n",
    "plt.plot(N, H.history[\"accuracy\"], label=\"train_acc\")\n",
    "plt.plot(N, H.history[\"val_accuracy\"], label=\"val_acc\")\n",
    "plt.title(\"Training Loss and Accuracy (Simple NN)\")\n",
    "plt.xlabel(\"Epoch #\")\n",
    "plt.ylabel(\"Loss/Accuracy\")\n",
    "plt.legend()"
   ]
  },
  {
   "cell_type": "markdown",
   "metadata": {},
   "source": [
    "### save the trained model to disk"
   ]
  },
  {
   "cell_type": "code",
   "execution_count": null,
   "metadata": {},
   "outputs": [],
   "source": [
    "tf.saved_model.save(model, \"/path/to/tf2_256_96_12_astft_pca_X.model\")"
   ]
  }
 ],
 "metadata": {
  "kernelspec": {
   "display_name": "Python 3",
   "language": "python",
   "name": "python3"
  },
  "language_info": {
   "codemirror_mode": {
    "name": "ipython",
    "version": 3
   },
   "file_extension": ".py",
   "mimetype": "text/x-python",
   "name": "python",
   "nbconvert_exporter": "python",
   "pygments_lexer": "ipython3",
   "version": "3.7.6"
  }
 },
 "nbformat": 4,
 "nbformat_minor": 4
}
